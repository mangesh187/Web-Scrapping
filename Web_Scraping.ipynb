{
 "cells": [
  {
   "cell_type": "code",
   "execution_count": 1,
   "metadata": {
    "ExecuteTime": {
     "end_time": "2020-10-06T06:42:31.837024Z",
     "start_time": "2020-10-06T06:42:29.776544Z"
    }
   },
   "outputs": [],
   "source": [
    "import pandas as pd\n",
    "import numpy as np\n",
    "from urllib.request import urlopen\n",
    "import requests\n",
    "from bs4 import BeautifulSoup\n",
    "from requests import get\n",
    "from bs2json import bs2json"
   ]
  },
  {
   "cell_type": "code",
   "execution_count": 201,
   "metadata": {
    "ExecuteTime": {
     "end_time": "2020-10-06T15:35:33.580237Z",
     "start_time": "2020-10-06T15:35:33.555404Z"
    }
   },
   "outputs": [
    {
     "data": {
      "text/html": [
       "<div>\n",
       "<style scoped>\n",
       "    .dataframe tbody tr th:only-of-type {\n",
       "        vertical-align: middle;\n",
       "    }\n",
       "\n",
       "    .dataframe tbody tr th {\n",
       "        vertical-align: top;\n",
       "    }\n",
       "\n",
       "    .dataframe thead th {\n",
       "        text-align: right;\n",
       "    }\n",
       "</style>\n",
       "<table border=\"1\" class=\"dataframe\">\n",
       "  <thead>\n",
       "    <tr style=\"text-align: right;\">\n",
       "      <th></th>\n",
       "      <th>Brand</th>\n",
       "      <th>Reference</th>\n",
       "      <th>Google Search Code</th>\n",
       "      <th>Category</th>\n",
       "      <th>Name</th>\n",
       "      <th>Product Page URL</th>\n",
       "      <th>Price(Euros)</th>\n",
       "    </tr>\n",
       "  </thead>\n",
       "  <tbody>\n",
       "    <tr>\n",
       "      <th>0</th>\n",
       "      <td>O'NEILL</td>\n",
       "      <td>0A4972-9950 BLACK AOP</td>\n",
       "      <td>0A4972-9950</td>\n",
       "      <td>Sandals</td>\n",
       "      <td>FB ARCH PRINT SANDALS</td>\n",
       "      <td>NaN</td>\n",
       "      <td>NaN</td>\n",
       "    </tr>\n",
       "    <tr>\n",
       "      <th>1</th>\n",
       "      <td>O'NEILL</td>\n",
       "      <td>9P1070-5056 Ink Blue</td>\n",
       "      <td>9P1070-5056</td>\n",
       "      <td>Jackets</td>\n",
       "      <td>LB CHARGER PARKA</td>\n",
       "      <td>NaN</td>\n",
       "      <td>NaN</td>\n",
       "    </tr>\n",
       "    <tr>\n",
       "      <th>2</th>\n",
       "      <td>O'NEILL</td>\n",
       "      <td>9P1070-6077 Winter Mos</td>\n",
       "      <td>9P1070-6077</td>\n",
       "      <td>Jackets</td>\n",
       "      <td>LB CHARGER PARKA</td>\n",
       "      <td>NaN</td>\n",
       "      <td>NaN</td>\n",
       "    </tr>\n",
       "    <tr>\n",
       "      <th>3</th>\n",
       "      <td>O'NEILL</td>\n",
       "      <td>8P1072-5056 Ink Blue</td>\n",
       "      <td>8P1072-5056</td>\n",
       "      <td>Jackets Technical</td>\n",
       "      <td>LB TRANSIT JACKET</td>\n",
       "      <td>NaN</td>\n",
       "      <td>NaN</td>\n",
       "    </tr>\n",
       "    <tr>\n",
       "      <th>4</th>\n",
       "      <td>O'NEILL</td>\n",
       "      <td>8P1072-5112 Surf Blue</td>\n",
       "      <td>8P1072-5112</td>\n",
       "      <td>Jackets Technical</td>\n",
       "      <td>LB TRANSIT JACKET</td>\n",
       "      <td>NaN</td>\n",
       "      <td>NaN</td>\n",
       "    </tr>\n",
       "  </tbody>\n",
       "</table>\n",
       "</div>"
      ],
      "text/plain": [
       "     Brand               Reference Google Search Code           Category  \\\n",
       "0  O'NEILL   0A4972-9950 BLACK AOP        0A4972-9950            Sandals   \n",
       "1  O'NEILL    9P1070-5056 Ink Blue        9P1070-5056            Jackets   \n",
       "2  O'NEILL  9P1070-6077 Winter Mos        9P1070-6077            Jackets   \n",
       "3  O'NEILL    8P1072-5056 Ink Blue        8P1072-5056  Jackets Technical   \n",
       "4  O'NEILL   8P1072-5112 Surf Blue        8P1072-5112  Jackets Technical   \n",
       "\n",
       "                    Name  Product Page URL  Price(Euros)  \n",
       "0  FB ARCH PRINT SANDALS               NaN           NaN  \n",
       "1       LB CHARGER PARKA               NaN           NaN  \n",
       "2       LB CHARGER PARKA               NaN           NaN  \n",
       "3      LB TRANSIT JACKET               NaN           NaN  \n",
       "4      LB TRANSIT JACKET               NaN           NaN  "
      ]
     },
     "execution_count": 201,
     "metadata": {},
     "output_type": "execute_result"
    }
   ],
   "source": [
    "df = pd.read_csv(\"Greendeck Business Analyst Assignment Task 4 - Sheet1.csv\") # Read Data using pandas\n",
    "df.head()"
   ]
  },
  {
   "cell_type": "code",
   "execution_count": 3,
   "metadata": {
    "ExecuteTime": {
     "end_time": "2020-10-06T06:42:32.003016Z",
     "start_time": "2020-10-06T06:42:31.984856Z"
    }
   },
   "outputs": [
    {
     "name": "stdout",
     "output_type": "stream",
     "text": [
      "<class 'pandas.core.frame.DataFrame'>\n",
      "RangeIndex: 129 entries, 0 to 128\n",
      "Data columns (total 7 columns):\n",
      " #   Column              Non-Null Count  Dtype  \n",
      "---  ------              --------------  -----  \n",
      " 0   Brand               129 non-null    object \n",
      " 1   Reference           129 non-null    object \n",
      " 2   Google Search Code  129 non-null    object \n",
      " 3   Category            129 non-null    object \n",
      " 4   Name                129 non-null    object \n",
      " 5   Product Page URL    0 non-null      float64\n",
      " 6   Price(Euros)        0 non-null      float64\n",
      "dtypes: float64(2), object(5)\n",
      "memory usage: 7.2+ KB\n"
     ]
    }
   ],
   "source": [
    "df.info()"
   ]
  },
  {
   "cell_type": "code",
   "execution_count": 94,
   "metadata": {
    "ExecuteTime": {
     "end_time": "2020-10-06T10:29:32.804410Z",
     "start_time": "2020-10-06T10:29:32.801079Z"
    }
   },
   "outputs": [],
   "source": [
    "# API url \n",
    "api_url = 'http://api.serpstack.com/search?access_key=1d0f8a8bb8e78af22de9f929a4ff8804&query=oneill.com/fr '"
   ]
  },
  {
   "cell_type": "code",
   "execution_count": 95,
   "metadata": {
    "ExecuteTime": {
     "end_time": "2020-10-06T10:29:33.669710Z",
     "start_time": "2020-10-06T10:29:33.660752Z"
    }
   },
   "outputs": [],
   "source": [
    "url_list = [] # blank list for url \n",
    "# forloop for concatenation the string api + 'Google Search Code'\n",
    "for i in df['Google Search Code']:\n",
    "    final_url= api_url + i\n",
    "    url_list.append(final_url) # append the final_url in blank list\n",
    "\n",
    "    # assign the url_list in dataframe as final_url\n",
    "df['final_url'] = url_list"
   ]
  },
  {
   "cell_type": "code",
   "execution_count": 96,
   "metadata": {
    "ExecuteTime": {
     "end_time": "2020-10-06T10:29:34.481622Z",
     "start_time": "2020-10-06T10:29:34.458370Z"
    }
   },
   "outputs": [
    {
     "data": {
      "text/plain": [
       "0      http://api.serpstack.com/search?access_key=7e1...\n",
       "1      http://api.serpstack.com/search?access_key=7e1...\n",
       "2      http://api.serpstack.com/search?access_key=7e1...\n",
       "3      http://api.serpstack.com/search?access_key=7e1...\n",
       "4      http://api.serpstack.com/search?access_key=7e1...\n",
       "                             ...                        \n",
       "124    http://api.serpstack.com/search?access_key=7e1...\n",
       "125    http://api.serpstack.com/search?access_key=7e1...\n",
       "126    http://api.serpstack.com/search?access_key=7e1...\n",
       "127    http://api.serpstack.com/search?access_key=7e1...\n",
       "128    http://api.serpstack.com/search?access_key=7e1...\n",
       "Name: final_url, Length: 129, dtype: object"
      ]
     },
     "execution_count": 96,
     "metadata": {},
     "output_type": "execute_result"
    }
   ],
   "source": [
    "df['final_url']"
   ]
  },
  {
   "cell_type": "code",
   "execution_count": 97,
   "metadata": {
    "ExecuteTime": {
     "end_time": "2020-10-06T10:29:35.511242Z",
     "start_time": "2020-10-06T10:29:35.504791Z"
    }
   },
   "outputs": [
    {
     "data": {
      "text/plain": [
       "'http://api.serpstack.com/search?access_key=7e17a97098204d304560b843bff6c750&query=oneill.com/fr 0A4972-9950'"
      ]
     },
     "execution_count": 97,
     "metadata": {},
     "output_type": "execute_result"
    }
   ],
   "source": [
    "df['final_url'][0]"
   ]
  },
  {
   "cell_type": "code",
   "execution_count": 101,
   "metadata": {
    "ExecuteTime": {
     "end_time": "2020-10-06T10:59:52.741838Z",
     "start_time": "2020-10-06T10:53:53.113402Z"
    }
   },
   "outputs": [],
   "source": [
    "final_product_url = [] # blank list for product_url \n",
    "for i in df['final_url'][0:100]: # here take first 100 url bcz of api restriction limit\n",
    "    \n",
    "    g_url = requests.get(i) # requests to api using requests.get(url)\n",
    "    \n",
    "    soup = BeautifulSoup(g_url.content,'html.parser') # get the content using beautifulsoup \n",
    "    \n",
    "    dict_ = json.loads(str(soup)) # convert the bs4.beautifulsoup formate into json \n",
    "    \n",
    "    product_url = dict_['organic_results'][0]['url'] # access the url using keys n values in dictionary  \n",
    "    \n",
    "    final_product_url.append(product_url) # append product_url in final_product_url list\n",
    "#soup"
   ]
  },
  {
   "cell_type": "code",
   "execution_count": 111,
   "metadata": {
    "ExecuteTime": {
     "end_time": "2020-10-06T12:13:35.654836Z",
     "start_time": "2020-10-06T12:13:35.648334Z"
    }
   },
   "outputs": [
    {
     "data": {
      "text/plain": [
       "100"
      ]
     },
     "execution_count": 111,
     "metadata": {},
     "output_type": "execute_result"
    }
   ],
   "source": [
    "len(final_product_url)"
   ]
  },
  {
   "cell_type": "code",
   "execution_count": 137,
   "metadata": {
    "ExecuteTime": {
     "end_time": "2020-10-06T12:43:31.315944Z",
     "start_time": "2020-10-06T12:43:31.304741Z"
    }
   },
   "outputs": [
    {
     "data": {
      "text/plain": [
       "0      http://api.serpstack.com/search?access_key=d8c...\n",
       "1      http://api.serpstack.com/search?access_key=d8c...\n",
       "2      http://api.serpstack.com/search?access_key=d8c...\n",
       "3      http://api.serpstack.com/search?access_key=d8c...\n",
       "4      http://api.serpstack.com/search?access_key=d8c...\n",
       "                             ...                        \n",
       "124    http://api.serpstack.com/search?access_key=d8c...\n",
       "125    http://api.serpstack.com/search?access_key=d8c...\n",
       "126    http://api.serpstack.com/search?access_key=d8c...\n",
       "127    http://api.serpstack.com/search?access_key=d8c...\n",
       "128    http://api.serpstack.com/search?access_key=d8c...\n",
       "Name: final_url_1, Length: 129, dtype: object"
      ]
     },
     "execution_count": 137,
     "metadata": {},
     "output_type": "execute_result"
    }
   ],
   "source": [
    "# Again API url bcz of api restriction limit\n",
    "api_url_1 = 'http://api.serpstack.com/search?access_key=d8c165ed3e3c2a6082cd8599eaa8bb0b&query=oneill.com/fr '\n",
    "\n",
    "url_list_1 = []\n",
    "\n",
    "# forloop for concatenation the string api + 'Google Search Code'\n",
    "for i in df['Google Search Code']:\n",
    "    final_url= api_url_1 + i\n",
    "    url_list_1.append(final_url) # append the final_url in blank list\n",
    "    \n",
    "df['final_url_1'] = url_list_1\n",
    "df['final_url_1']"
   ]
  },
  {
   "cell_type": "code",
   "execution_count": 138,
   "metadata": {
    "ExecuteTime": {
     "end_time": "2020-10-06T12:47:48.374498Z",
     "start_time": "2020-10-06T12:43:32.531308Z"
    }
   },
   "outputs": [],
   "source": [
    "final_product_url1 = []\n",
    "\n",
    "for i in df['final_url_1'][99:128]: # here take first 100 url bcz of api restriction limit\n",
    "    \n",
    "    g_url = requests.get(i) # requests to api using requests.get(url)\n",
    "    \n",
    "    soup = BeautifulSoup(g_url.content,'html.parser') # get the content using beautifulsoup \n",
    "    \n",
    "    dict_ = json.loads(str(soup)) # convert the bs4.beautifulsoup formate into json \n",
    "    \n",
    "    product_url = dict_['organic_results'][0]['url'] # access the url using keys n values in dictionary \n",
    "    \n",
    "    final_product_url1.append(product_url) # append product_url in final_product_url list\n",
    "#soup"
   ]
  },
  {
   "cell_type": "code",
   "execution_count": 155,
   "metadata": {
    "ExecuteTime": {
     "end_time": "2020-10-06T12:55:17.972222Z",
     "start_time": "2020-10-06T12:55:17.966861Z"
    }
   },
   "outputs": [],
   "source": [
    "# Drop the final_url_1 column from dataframe\n",
    "df.drop(['final_url_1'], axis=1, inplace=True)"
   ]
  },
  {
   "cell_type": "code",
   "execution_count": 156,
   "metadata": {
    "ExecuteTime": {
     "end_time": "2020-10-06T12:55:27.440494Z",
     "start_time": "2020-10-06T12:55:27.429061Z"
    }
   },
   "outputs": [
    {
     "data": {
      "text/plain": [
       "129"
      ]
     },
     "execution_count": 156,
     "metadata": {},
     "output_type": "execute_result"
    }
   ],
   "source": [
    "# concatinate the product url list \n",
    "Product_Page_URL = final_product_url + final_product_url1\n",
    "# check the length of Product_Page_URL\n",
    "len(Product_Page_URL)"
   ]
  },
  {
   "cell_type": "code",
   "execution_count": 208,
   "metadata": {
    "ExecuteTime": {
     "end_time": "2020-10-06T15:39:51.001620Z",
     "start_time": "2020-10-06T15:39:50.984632Z"
    }
   },
   "outputs": [
    {
     "data": {
      "text/html": [
       "<div>\n",
       "<style scoped>\n",
       "    .dataframe tbody tr th:only-of-type {\n",
       "        vertical-align: middle;\n",
       "    }\n",
       "\n",
       "    .dataframe tbody tr th {\n",
       "        vertical-align: top;\n",
       "    }\n",
       "\n",
       "    .dataframe thead th {\n",
       "        text-align: right;\n",
       "    }\n",
       "</style>\n",
       "<table border=\"1\" class=\"dataframe\">\n",
       "  <thead>\n",
       "    <tr style=\"text-align: right;\">\n",
       "      <th></th>\n",
       "      <th>Brand</th>\n",
       "      <th>Reference</th>\n",
       "      <th>Google Search Code</th>\n",
       "      <th>Category</th>\n",
       "      <th>Name</th>\n",
       "      <th>Product Page URL</th>\n",
       "      <th>Price(Euros)</th>\n",
       "    </tr>\n",
       "  </thead>\n",
       "  <tbody>\n",
       "    <tr>\n",
       "      <th>0</th>\n",
       "      <td>O'NEILL</td>\n",
       "      <td>0A4972-9950 BLACK AOP</td>\n",
       "      <td>0A4972-9950</td>\n",
       "      <td>Sandals</td>\n",
       "      <td>FB ARCH PRINT SANDALS</td>\n",
       "      <td>https://www.oneill.com/eu/en/arch-print-sandal...</td>\n",
       "      <td>€22,99</td>\n",
       "    </tr>\n",
       "    <tr>\n",
       "      <th>1</th>\n",
       "      <td>O'NEILL</td>\n",
       "      <td>9P1070-5056 Ink Blue</td>\n",
       "      <td>9P1070-5056</td>\n",
       "      <td>Jackets</td>\n",
       "      <td>LB CHARGER PARKA</td>\n",
       "      <td>https://www.oneill.com/fr/en/charger-parka-jac...</td>\n",
       "      <td>€ 109,99</td>\n",
       "    </tr>\n",
       "    <tr>\n",
       "      <th>2</th>\n",
       "      <td>O'NEILL</td>\n",
       "      <td>9P1070-6077 Winter Mos</td>\n",
       "      <td>9P1070-6077</td>\n",
       "      <td>Jackets</td>\n",
       "      <td>LB CHARGER PARKA</td>\n",
       "      <td>https://www.oneill.com/eu/en/charger-parka-jac...</td>\n",
       "      <td>€109,99</td>\n",
       "    </tr>\n",
       "    <tr>\n",
       "      <th>3</th>\n",
       "      <td>O'NEILL</td>\n",
       "      <td>8P1072-5056 Ink Blue</td>\n",
       "      <td>8P1072-5056</td>\n",
       "      <td>Jackets Technical</td>\n",
       "      <td>LB TRANSIT JACKET</td>\n",
       "      <td>https://us.oneill.com/</td>\n",
       "      <td>NA</td>\n",
       "    </tr>\n",
       "    <tr>\n",
       "      <th>4</th>\n",
       "      <td>O'NEILL</td>\n",
       "      <td>8P1072-5112 Surf Blue</td>\n",
       "      <td>8P1072-5112</td>\n",
       "      <td>Jackets Technical</td>\n",
       "      <td>LB TRANSIT JACKET</td>\n",
       "      <td>https://us.oneill.com/</td>\n",
       "      <td>NA</td>\n",
       "    </tr>\n",
       "  </tbody>\n",
       "</table>\n",
       "</div>"
      ],
      "text/plain": [
       "     Brand               Reference Google Search Code           Category  \\\n",
       "0  O'NEILL   0A4972-9950 BLACK AOP        0A4972-9950            Sandals   \n",
       "1  O'NEILL    9P1070-5056 Ink Blue        9P1070-5056            Jackets   \n",
       "2  O'NEILL  9P1070-6077 Winter Mos        9P1070-6077            Jackets   \n",
       "3  O'NEILL    8P1072-5056 Ink Blue        8P1072-5056  Jackets Technical   \n",
       "4  O'NEILL   8P1072-5112 Surf Blue        8P1072-5112  Jackets Technical   \n",
       "\n",
       "                    Name                                   Product Page URL  \\\n",
       "0  FB ARCH PRINT SANDALS  https://www.oneill.com/eu/en/arch-print-sandal...   \n",
       "1       LB CHARGER PARKA  https://www.oneill.com/fr/en/charger-parka-jac...   \n",
       "2       LB CHARGER PARKA  https://www.oneill.com/eu/en/charger-parka-jac...   \n",
       "3      LB TRANSIT JACKET                             https://us.oneill.com/   \n",
       "4      LB TRANSIT JACKET                             https://us.oneill.com/   \n",
       "\n",
       "  Price(Euros)  \n",
       "0       €22,99  \n",
       "1     € 109,99  \n",
       "2      €109,99  \n",
       "3           NA  \n",
       "4           NA  "
      ]
     },
     "execution_count": 208,
     "metadata": {},
     "output_type": "execute_result"
    }
   ],
   "source": [
    "# append the Product_Page_URL in dataframe\n",
    "df['Product Page URL'] = Product_Page_URL\n",
    "\n",
    "df.head()"
   ]
  },
  {
   "cell_type": "code",
   "execution_count": 209,
   "metadata": {
    "ExecuteTime": {
     "end_time": "2020-10-06T15:52:10.304587Z",
     "start_time": "2020-10-06T15:47:14.596983Z"
    }
   },
   "outputs": [
    {
     "name": "stdout",
     "output_type": "stream",
     "text": [
      "['€22,99', '€ 109,99', '€109,99', 'NA', 'NA', '£44.99', '€59,99', '€59,99', '€59,99', '€ 45,99', '€45,99', '€45,99', '€45,99', '€ 45,99', '€45,99', '€45,99', '£32.99', '€39,99', '€39,99', '€45,99', '€29,99', '€ 69,99', 'NA', 'NA', '€49,99', '€49,99', '€39,99', 'NA', '€59,99', '€59,99', '€59,99', 'NA', '€ 17,99', '€17,99', '€22,99', '€22,99', '€29,99', '€ 29,99', '€ 29,99', '€19,99', '€17,99', '€45,99', 'NA', '€35,99', '€29,99', '€ 29,99', '€49,99', 'NA', 'NA', '€ 49,99', 'NA', '€39,99', '€39,99', '€29,99', 'NA', 'NA', 'NA', 'NA', 'NA', '€129,99', '€129,99', '€119,99', '€119,99', '€ 99,99', '€ 99,99', '€99,99', '€ 99,99', '€99,99', 'NA', 'NA', 'NA', 'NA', 'NA', 'NA', 'NA', 'NA', '€119,99', '€119,99', '€89,99', '€89,99', '€89,99', 'NA', '€25,99', '€29,99', '€25,99', '€22,99', '€25,99', '€25,99', '€22,99', '€22,99', '€69,99', '€69,99', '€29,99', 'NA', 'NA', '€ 49,99', '€ 49,99', '€99,99', '€99,99', '€29,99', '€29,99', '€ 29,99', '€ 49,99', '€59,99', '€39,99', '€39,99', '€ 49,99', '€ 39,99', '€ 39,99', '€39,99', 'NA', 'NA', '€39,99', '€ 39,99', '€69,99', '€69,99', '€ 39,99', '€39,99', 'NA', '€ 49,99', '€ 19,99', '€19,99', '€19,99', 'NA', '€25,99', 'NA', 'NA', 'NA', '€ 17,99']\n"
     ]
    }
   ],
   "source": [
    "price_list = []\n",
    "\n",
    "\n",
    "for i in df['Product Page URL'][0:129]:\n",
    "    try:\n",
    "        Product_url_ = requests.get(i) # requests to api using requests.get(url)\n",
    "        \n",
    "        soup = BeautifulSoup(Product_url_.content,'html.parser') # get the content using beautifulsoup \n",
    "        \n",
    "        sales_spans = soup.find_all('span', {'class' : 'strike-through list'}) # Find the price \n",
    "        \n",
    "        price = (sales_spans[0].get_text().strip()) \n",
    "        \n",
    "        price_list.append(price) # append price in price_list \n",
    "    except:\n",
    "        price_list.append('NA')\n",
    "\n",
    "print(price_list)"
   ]
  },
  {
   "cell_type": "code",
   "execution_count": 210,
   "metadata": {
    "ExecuteTime": {
     "end_time": "2020-10-06T16:00:39.765887Z",
     "start_time": "2020-10-06T16:00:39.747732Z"
    }
   },
   "outputs": [
    {
     "data": {
      "text/html": [
       "<div>\n",
       "<style scoped>\n",
       "    .dataframe tbody tr th:only-of-type {\n",
       "        vertical-align: middle;\n",
       "    }\n",
       "\n",
       "    .dataframe tbody tr th {\n",
       "        vertical-align: top;\n",
       "    }\n",
       "\n",
       "    .dataframe thead th {\n",
       "        text-align: right;\n",
       "    }\n",
       "</style>\n",
       "<table border=\"1\" class=\"dataframe\">\n",
       "  <thead>\n",
       "    <tr style=\"text-align: right;\">\n",
       "      <th></th>\n",
       "      <th>Brand</th>\n",
       "      <th>Reference</th>\n",
       "      <th>Google Search Code</th>\n",
       "      <th>Category</th>\n",
       "      <th>Name</th>\n",
       "      <th>Product Page URL</th>\n",
       "      <th>Price(Euros)</th>\n",
       "    </tr>\n",
       "  </thead>\n",
       "  <tbody>\n",
       "    <tr>\n",
       "      <th>0</th>\n",
       "      <td>O'NEILL</td>\n",
       "      <td>0A4972-9950 BLACK AOP</td>\n",
       "      <td>0A4972-9950</td>\n",
       "      <td>Sandals</td>\n",
       "      <td>FB ARCH PRINT SANDALS</td>\n",
       "      <td>https://www.oneill.com/eu/en/arch-print-sandal...</td>\n",
       "      <td>€22,99</td>\n",
       "    </tr>\n",
       "    <tr>\n",
       "      <th>1</th>\n",
       "      <td>O'NEILL</td>\n",
       "      <td>9P1070-5056 Ink Blue</td>\n",
       "      <td>9P1070-5056</td>\n",
       "      <td>Jackets</td>\n",
       "      <td>LB CHARGER PARKA</td>\n",
       "      <td>https://www.oneill.com/fr/en/charger-parka-jac...</td>\n",
       "      <td>€ 109,99</td>\n",
       "    </tr>\n",
       "    <tr>\n",
       "      <th>2</th>\n",
       "      <td>O'NEILL</td>\n",
       "      <td>9P1070-6077 Winter Mos</td>\n",
       "      <td>9P1070-6077</td>\n",
       "      <td>Jackets</td>\n",
       "      <td>LB CHARGER PARKA</td>\n",
       "      <td>https://www.oneill.com/eu/en/charger-parka-jac...</td>\n",
       "      <td>€109,99</td>\n",
       "    </tr>\n",
       "    <tr>\n",
       "      <th>3</th>\n",
       "      <td>O'NEILL</td>\n",
       "      <td>8P1072-5056 Ink Blue</td>\n",
       "      <td>8P1072-5056</td>\n",
       "      <td>Jackets Technical</td>\n",
       "      <td>LB TRANSIT JACKET</td>\n",
       "      <td>https://us.oneill.com/</td>\n",
       "      <td>NA</td>\n",
       "    </tr>\n",
       "    <tr>\n",
       "      <th>4</th>\n",
       "      <td>O'NEILL</td>\n",
       "      <td>8P1072-5112 Surf Blue</td>\n",
       "      <td>8P1072-5112</td>\n",
       "      <td>Jackets Technical</td>\n",
       "      <td>LB TRANSIT JACKET</td>\n",
       "      <td>https://us.oneill.com/</td>\n",
       "      <td>NA</td>\n",
       "    </tr>\n",
       "  </tbody>\n",
       "</table>\n",
       "</div>"
      ],
      "text/plain": [
       "     Brand               Reference Google Search Code           Category  \\\n",
       "0  O'NEILL   0A4972-9950 BLACK AOP        0A4972-9950            Sandals   \n",
       "1  O'NEILL    9P1070-5056 Ink Blue        9P1070-5056            Jackets   \n",
       "2  O'NEILL  9P1070-6077 Winter Mos        9P1070-6077            Jackets   \n",
       "3  O'NEILL    8P1072-5056 Ink Blue        8P1072-5056  Jackets Technical   \n",
       "4  O'NEILL   8P1072-5112 Surf Blue        8P1072-5112  Jackets Technical   \n",
       "\n",
       "                    Name                                   Product Page URL  \\\n",
       "0  FB ARCH PRINT SANDALS  https://www.oneill.com/eu/en/arch-print-sandal...   \n",
       "1       LB CHARGER PARKA  https://www.oneill.com/fr/en/charger-parka-jac...   \n",
       "2       LB CHARGER PARKA  https://www.oneill.com/eu/en/charger-parka-jac...   \n",
       "3      LB TRANSIT JACKET                             https://us.oneill.com/   \n",
       "4      LB TRANSIT JACKET                             https://us.oneill.com/   \n",
       "\n",
       "  Price(Euros)  \n",
       "0       €22,99  \n",
       "1     € 109,99  \n",
       "2      €109,99  \n",
       "3           NA  \n",
       "4           NA  "
      ]
     },
     "execution_count": 210,
     "metadata": {},
     "output_type": "execute_result"
    }
   ],
   "source": [
    "# append price_list in dataframe\n",
    "df['Price(Euros)'] = price_list\n",
    "df.head()"
   ]
  },
  {
   "cell_type": "code",
   "execution_count": 211,
   "metadata": {
    "ExecuteTime": {
     "end_time": "2020-10-06T16:01:00.617633Z",
     "start_time": "2020-10-06T16:01:00.607395Z"
    }
   },
   "outputs": [],
   "source": [
    "output = df.to_csv('Task-4.csv')\n",
    "output"
   ]
  },
  {
   "cell_type": "code",
   "execution_count": null,
   "metadata": {
    "ExecuteTime": {
     "end_time": "2020-10-05T19:53:07.591250Z",
     "start_time": "2020-10-05T19:53:07.566163Z"
    }
   },
   "outputs": [],
   "source": []
  }
 ],
 "metadata": {
  "kernelspec": {
   "display_name": "Python 3",
   "language": "python",
   "name": "python3"
  },
  "language_info": {
   "codemirror_mode": {
    "name": "ipython",
    "version": 3
   },
   "file_extension": ".py",
   "mimetype": "text/x-python",
   "name": "python",
   "nbconvert_exporter": "python",
   "pygments_lexer": "ipython3",
   "version": "3.8.5"
  }
 },
 "nbformat": 4,
 "nbformat_minor": 4
}
